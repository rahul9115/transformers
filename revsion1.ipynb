{
 "cells": [
  {
   "cell_type": "code",
   "execution_count": 1,
   "metadata": {},
   "outputs": [],
   "source": [
    "import torch\n",
    "import torch.nn as nn\n",
    "import torch.nn.functional as F\n",
    "import math"
   ]
  },
  {
   "cell_type": "code",
   "execution_count": 12,
   "metadata": {},
   "outputs": [],
   "source": [
    "def self_attention(q,k,v,mask=None):\n",
    "        d_k=q.size()[-1]\n",
    "        scaled=torch.matmul(q,k.transpose(-1,-2))/math.sqrt(d_k)\n",
    "        if mask is not None:\n",
    "            scaled+=mask\n",
    "        attention=F.softmax(scaled,dim=-1)\n",
    "        out=torch.matmul(attention,v)\n",
    "        return attention,out\n",
    "\n",
    "class MultiheadAttention(nn.Module):\n",
    "    def __init__(self,input_dim,d_model,num_heads):\n",
    "        super().__init__()\n",
    "        self.input_dim=input_dim\n",
    "        self.d_model=d_model\n",
    "        self.num_heads=num_heads\n",
    "        self.head_dim=self.d_model//num_heads\n",
    "        self.qkv_layer=nn.Linear(input_dim,3*d_model)\n",
    "        self.linear_layer=nn.Linear(d_model,d_model)\n",
    "    \n",
    "    def forward(self,x,mask=None):\n",
    "        batch_size,sequence_length,input_dim=x.size()\n",
    "        qkv=self.qkv_layer(x)\n",
    "        qkv=qkv.reshape(batch_size,sequence_length,self.num_heads,3*self.head_dim)\n",
    "        qkv=qkv.permute(0,2,1,3)\n",
    "        q,k,v=qkv.chunk(3,dim=-1)\n",
    "        attention,values=self_attention(q,k,v,mask)\n",
    "        values=values.reshape(batch_size,sequence_length,self.num_heads*self.head_dim)\n",
    "        out=self.linear_layer(values)\n",
    "        return out\n",
    "       \n",
    "        "
   ]
  },
  {
   "cell_type": "code",
   "execution_count": 13,
   "metadata": {},
   "outputs": [],
   "source": [
    "input_dim=512\n",
    "d_model=512\n",
    "num_heads=8\n",
    "\n",
    "batch_size=30\n",
    "sequence_length=5\n",
    "x=torch.randn((batch_size,sequence_length,input_dim))\n",
    "model=MultiheadAttention(input_dim,d_model,num_heads)\n",
    "out=model.forward(x)"
   ]
  },
  {
   "cell_type": "code",
   "execution_count": null,
   "metadata": {},
   "outputs": [],
   "source": [
    "def self_attention(q,k,v,mask=None):\n",
    "    d_k=q.size()[-1]\n",
    "    scaled=torch.matmul(q,k.transpose(-1,-2))/math.sqrt(d_k)\n",
    "    if mask is not None:\n",
    "        scaled+=mask\n",
    "    attention=F.softmax(scaled,dim=-1)\n",
    "    out=torch.matmul(attention,v)\n",
    "    return attention,out\n",
    "\n",
    "class MultiheadAttention(nn.Module):\n",
    "    def __init__(self,input_dim,d_model,num_heads):\n",
    "        self.num_heads=num_heads\n",
    "        self.d_model=d_model\n",
    "        self.input_dim=input_dim\n",
    "        self.head_dim=d_model//num_heads\n",
    "        self.qkv_layer=nn.Linear(input_dim,3*d_model)\n",
    "        self.linear_layer=nn.Linear(d_model,d_model)\n",
    "    def forward(self,x,mask=None):\n",
    "        batch_size,sequence_length,input_dim=x.size()\n",
    "        qkv=self.qkv_layer(x)\n",
    "        qkv=qkv.reshape(batch_size,sequence_length,num_heads,3*self.head_dim)\n",
    "        qkv=qkv.permute(0,2,1,3)\n",
    "        q,k,v=qkv.chunk(3,dim=-1)\n",
    "        attention,values=self_attention(q,k,v,mask=None)\n",
    "        values=values.reshape(batch_size,sequence_length,self.num_heads*self.head_dim)\n",
    "        out=self.linear_layer(values)\n",
    "        return out"
   ]
  },
  {
   "cell_type": "code",
   "execution_count": null,
   "metadata": {},
   "outputs": [],
   "source": []
  },
  {
   "cell_type": "code",
   "execution_count": null,
   "metadata": {},
   "outputs": [],
   "source": [
    "class PositionalEncoding(nn.Module):\n",
    "    def __init__(self,max_sequence_length,d_model):\n",
    "        super().__init__()\n",
    "        self.max_sequence_length=max_sequence_length\n",
    "        self.d_model=d_model\n",
    "    def forward(self):\n",
    "        even_PE=torch.arange(0,self.max_sequence_length,2).float()\n",
    "        denominator=torch.pow(10000,even_PE/self.d_model).float()\n",
    "        pos=torch.arange(self.max_sequence_length,dtype=torch.float).reshape(self.max_sequence_length,1)\n",
    "        even_PE=torch.sin(pos/denominator)\n",
    "        odd_PE=torch.cos(pos/denominator)\n",
    "        stacked=torch.stack([even_PE,odd_PE],dim=2)\n",
    "        PE=torch.flatten(stacked,start_dim=1,end_dim=1)\n",
    "        return PE        \n",
    "\n",
    "        \n"
   ]
  },
  {
   "cell_type": "code",
   "execution_count": null,
   "metadata": {},
   "outputs": [],
   "source": [
    "import torch\n",
    "from torch import nn\n",
    "class LayerNormalization(nn.Module):\n",
    "    def __init__(self,parameter_shape,eps=1e-5):\n",
    "        super().__init__()\n",
    "        self.parameter_shape=parameter_shape\n",
    "        self.eps=eps\n",
    "        self.gamma=nn.Parameter(torch.ones(parameter_shape))\n",
    "        self.beta=nn.Parameter(torch.zeros(parameter_shape))\n",
    "    def forward(self,inputs):\n",
    "        dims=[-(i+1) for i in range(len(self.parameter_shape))]\n",
    "        mean=inputs.mean(dim=dims,keepdim=True)\n",
    "        var=((inputs-mean)**2).mean(dim=dims,keepdim=True)\n",
    "        std=(var+self.eps).sqrt()\n",
    "        y=(inputs-mean)/std\n",
    "        out=self.gamma*y+self.beta\n",
    "        return out"
   ]
  }
 ],
 "metadata": {
  "kernelspec": {
   "display_name": "Python 3",
   "language": "python",
   "name": "python3"
  },
  "language_info": {
   "codemirror_mode": {
    "name": "ipython",
    "version": 3
   },
   "file_extension": ".py",
   "mimetype": "text/x-python",
   "name": "python",
   "nbconvert_exporter": "python",
   "pygments_lexer": "ipython3",
   "version": "3.12.1"
  }
 },
 "nbformat": 4,
 "nbformat_minor": 2
}
