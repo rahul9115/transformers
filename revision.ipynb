{
 "cells": [
  {
   "cell_type": "markdown",
   "metadata": {},
   "source": [
    "Self-Attention"
   ]
  },
  {
   "cell_type": "code",
   "execution_count": 2,
   "metadata": {},
   "outputs": [],
   "source": [
    "import torch \n",
    "import torch.nn as nn\n",
    "import torch.nn.functional as F\n",
    "import math\n",
    "\n",
    "def scaled_dot_product(q,k,v,mask=None):\n",
    "    d_k=q.size()[-1]\n",
    "    scaled=torch.matmul(q,k.transpose(-1,-2))/math.sqrt(d_k)\n",
    "    if mask is not None:\n",
    "        scaled+=mask\n",
    "    attention=F.softmax(scaled,dim=-1)\n",
    "    values=torch.matmul(attention,v)\n",
    "    return attention,values\n",
    "\n",
    "class MultiheadAttention(nn.Module):\n",
    "    def __init__(self,input_dim,d_model,num_heads):\n",
    "        super.__init__()\n",
    "        self.input_dim=input_dim\n",
    "        self.d_model=d_model\n",
    "        self.num_heads=num_heads\n",
    "        self.head_dim=self.d_model//num_heads\n",
    "        self.qkv_layer=nn.Linear(input_dim,3*d_model)\n",
    "        self.linear_layer=nn.Linear(d_model*d_model)\n",
    "    \n",
    "    def forward(self,x):\n",
    "        batch_size,sequence_length,input_dim=x.size()\n",
    "        qkv=self.qkv_layer(x)\n",
    "        qkv=qkv.reshape(batch_size,self.num_heads,sequence_length,3*self.head_dim)\n",
    "        q,k,v=qkv.chunk(3,dim=-1)\n",
    "        attention,values=scaled_dot_product(q,k,v)\n",
    "        \n",
    "\n"
   ]
  },
  {
   "cell_type": "markdown",
   "metadata": {},
   "source": [
    "Positional Encoding"
   ]
  },
  {
   "cell_type": "code",
   "execution_count": 7,
   "metadata": {},
   "outputs": [
    {
     "data": {
      "text/plain": [
       "tensor([[ 0.0000,  1.0000,  0.0000,  1.0000,  0.0000,  1.0000],\n",
       "        [ 0.8415,  0.5403,  0.1578,  0.9875,  0.0251,  0.9997],\n",
       "        [ 0.9093, -0.4161,  0.3117,  0.9502,  0.0502,  0.9987],\n",
       "        [ 0.1411, -0.9900,  0.4578,  0.8891,  0.0753,  0.9972],\n",
       "        [-0.7568, -0.6536,  0.5923,  0.8057,  0.1003,  0.9950],\n",
       "        [-0.9589,  0.2837,  0.7121,  0.7021,  0.1253,  0.9921]])"
      ]
     },
     "execution_count": 7,
     "metadata": {},
     "output_type": "execute_result"
    }
   ],
   "source": [
    "class PositionalEncoding(nn.Module):\n",
    "    def __init__(self,max_sequence_length,d_model):\n",
    "        super().__init__()\n",
    "        self.max_sequence_length=max_sequence_length\n",
    "        self.d_model=d_model\n",
    "    def forward(self):\n",
    "        even_i=torch.arange(0,self.max_sequence_length,2).float()\n",
    "        denominator=torch.pow(10000,even_i/self.d_model)\n",
    "        pos=torch.arange(self.max_sequence_length,dtype=torch.float).reshape(self.max_sequence_length,1)\n",
    "        even_PE=torch.sin(pos/denominator)\n",
    "        odd_PE=torch.cos(pos/denominator)\n",
    "        stack=torch.stack([even_PE,odd_PE],dim=2)\n",
    "        PE=torch.flatten(stack,start_dim=1,end_dim=2)\n",
    "        return PE\n",
    "pe=PositionalEncoding(6,10)\n",
    "pe.forward()\n",
    "\n",
    "\n",
    "        "
   ]
  },
  {
   "cell_type": "markdown",
   "metadata": {},
   "source": [
    "Layer Normalization"
   ]
  },
  {
   "cell_type": "code",
   "execution_count": null,
   "metadata": {},
   "outputs": [],
   "source": [
    "import torch\n",
    "from torch import nn\n",
    "\n",
    "class LayerNormalization(nn.Module):\n",
    "    def __init__(self,parameter_shape,eps=1e-5):\n",
    "        super().__init__()\n",
    "        self.parameter_shape=parameter_shape\n",
    "        self.eps=eps\n",
    "        self.gamma=nn.Parameter(torch.ones(parameter_shape))\n",
    "        self.beta=nn.Parameter(torch.zeros(parameter_shape))\n",
    "    def forward(self,inputs):\n",
    "        dims=[-(i+1) for i in range(len(self.parameter_shape))]\n",
    "        mean=inputs.mean(dim=dims,keepdim=True)\n",
    "        var=((inputs-mean)**2).mean(dim=dims,keepdim=True)\n",
    "        std=(var+self.eps).sqrt()\n",
    "        y=(inputs-mean)/std\n",
    "        out=self.gamma*y+self.beta\n",
    "        return out"
   ]
  }
 ],
 "metadata": {
  "kernelspec": {
   "display_name": "Python 3",
   "language": "python",
   "name": "python3"
  },
  "language_info": {
   "codemirror_mode": {
    "name": "ipython",
    "version": 3
   },
   "file_extension": ".py",
   "mimetype": "text/x-python",
   "name": "python",
   "nbconvert_exporter": "python",
   "pygments_lexer": "ipython3",
   "version": "3.12.1"
  }
 },
 "nbformat": 4,
 "nbformat_minor": 2
}
